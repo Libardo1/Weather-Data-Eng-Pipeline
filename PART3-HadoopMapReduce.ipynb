{
 "cells": [
  {
   "cell_type": "markdown",
   "metadata": {},
   "source": [
    "# PART 3 - Batch Analysis of Historical NEXRAD Data with Hadoop MapReduce\n",
    "credits: [Purdue University](github.com/stephenlienharrell/WeatherPipe)\n",
    "\n",
    "Radar data requires a lot of storage and computation when processed. This tools helps simplify the process of starting up a EMR cluster and runing a Hadoop MapReduce job of your choice.\n",
    "\n",
    "The [NEXRAD data](https://aws.amazon.com/noaa-big-data/nexrad/) is a public dataset hosted on amazon. It contains historical records of 160 NEXRAD radars across the US from 1990 to today."
   ]
  },
  {
   "cell_type": "markdown",
   "metadata": {},
   "source": [
    "![](image/hadoop.jpg)"
   ]
  },
  {
   "cell_type": "markdown",
   "metadata": {},
   "source": [
    "### Hadoop MapReduce Weather Pipeline:\n",
    "1. Query desired time period and radar station\n",
    "1. Compiling MapReduce Jar\n",
    "2. Searching the archive NEXRAD data on S3\n",
    "3. Configure and start up EMR cluster\n",
    "3. Running the MapReduce Job\n",
    "4. Mapping function provided by user\n",
    "5. Reducing function provided by user\n",
    "6. Writing Output NetCDF files back to S3 for visualization"
   ]
  },
  {
   "cell_type": "markdown",
   "metadata": {},
   "source": [
    "### Download WeatherPipe tool"
   ]
  },
  {
   "cell_type": "code",
   "execution_count": 21,
   "metadata": {
    "collapsed": false
   },
   "outputs": [
    {
     "name": "stdout",
     "output_type": "stream",
     "text": [
      "--2016-03-05 12:34:12--  https://github.com/stephenlienharrell/WeatherPipe/archive/v0.2.tar.gz\n",
      "Resolving github.com... 192.30.252.128\n",
      "Connecting to github.com|192.30.252.128|:443... connected.\n",
      "HTTP request sent, awaiting response... 302 Found\n",
      "Location: https://codeload.github.com/stephenlienharrell/WeatherPipe/tar.gz/v0.2 [following]\n",
      "--2016-03-05 12:34:12--  https://codeload.github.com/stephenlienharrell/WeatherPipe/tar.gz/v0.2\n",
      "Resolving codeload.github.com... 192.30.252.162\n",
      "Connecting to codeload.github.com|192.30.252.162|:443... connected.\n",
      "HTTP request sent, awaiting response... 200 OK\n",
      "Length: 25779 (25K) [application/x-gzip]\n",
      "Saving to: 'v0.2.tar.gz'\n",
      "\n",
      "v0.2.tar.gz         100%[=====================>]  25.17K  --.-KB/s   in 0.1s   \n",
      "\n",
      "2016-03-05 12:34:12 (243 KB/s) - 'v0.2.tar.gz' saved [25779/25779]\n",
      "\n"
     ]
    }
   ],
   "source": [
    "! wget https://github.com/stephenlienharrell/WeatherPipe/archive/v0.2.tar.gz"
   ]
  },
  {
   "cell_type": "markdown",
   "metadata": {},
   "source": [
    "### Extract file"
   ]
  },
  {
   "cell_type": "code",
   "execution_count": 22,
   "metadata": {
    "collapsed": false,
    "scrolled": true
   },
   "outputs": [
    {
     "name": "stdout",
     "output_type": "stream",
     "text": [
      "x WeatherPipe-0.2/\r\n",
      "x WeatherPipe-0.2/.gitmodules\r\n",
      "x WeatherPipe-0.2/LICENSE\r\n",
      "x WeatherPipe-0.2/README.md\r\n",
      "x WeatherPipe-0.2/WeatherPipe/\r\n",
      "x WeatherPipe-0.2/WeatherPipe/.gitignore\r\n",
      "x WeatherPipe-0.2/WeatherPipe/build.gradle\r\n",
      "x WeatherPipe-0.2/WeatherPipe/src/\r\n",
      "x WeatherPipe-0.2/WeatherPipe/src/main/\r\n",
      "x WeatherPipe-0.2/WeatherPipe/src/main/dist/\r\n",
      "x WeatherPipe-0.2/WeatherPipe/src/main/dist/ExampleAnalyses/\r\n",
      "x WeatherPipe-0.2/WeatherPipe/src/main/dist/ExampleAnalyses/ResearcherMapReduceAnalysisArrayAverageExample.java\r\n",
      "x WeatherPipe-0.2/WeatherPipe/src/main/dist/ExampleAnalyses/ResearcherMapReduceAnalysisEmpty.java\r\n",
      "x WeatherPipe-0.2/WeatherPipe/src/main/dist/ExampleAnalyses/ResearcherMapReduceAnalysisReflectivityAverageWithNetcdfOutput.java\r\n",
      "x WeatherPipe-0.2/WeatherPipe/src/main/dist/ExampleAnalyses/ResearcherMapReduceAnalysisScalarAverageExample.java\r\n",
      "x WeatherPipe-0.2/WeatherPipe/src/main/dist/WeatherPipe.ini\r\n",
      "x WeatherPipe-0.2/WeatherPipe/src/main/dist/WeatherPipeMapReduce/\r\n",
      "x WeatherPipe-0.2/WeatherPipe/src/main/dist/WeatherPipeMapReduce/.gitignore\r\n",
      "x WeatherPipe-0.2/WeatherPipe/src/main/dist/WeatherPipeMapReduce/build.gradle\r\n",
      "x WeatherPipe-0.2/WeatherPipe/src/main/dist/WeatherPipeMapReduce/src/\r\n",
      "x WeatherPipe-0.2/WeatherPipe/src/main/dist/WeatherPipeMapReduce/src/main/\r\n",
      "x WeatherPipe-0.2/WeatherPipe/src/main/dist/WeatherPipeMapReduce/src/main/java/\r\n",
      "x WeatherPipe-0.2/WeatherPipe/src/main/dist/WeatherPipeMapReduce/src/main/java/edu/\r\n",
      "x WeatherPipe-0.2/WeatherPipe/src/main/dist/WeatherPipeMapReduce/src/main/java/edu/purdue/\r\n",
      "x WeatherPipe-0.2/WeatherPipe/src/main/dist/WeatherPipeMapReduce/src/main/java/edu/purdue/eaps/\r\n",
      "x WeatherPipe-0.2/WeatherPipe/src/main/dist/WeatherPipeMapReduce/src/main/java/edu/purdue/eaps/weatherpipe/\r\n",
      "x WeatherPipe-0.2/WeatherPipe/src/main/dist/WeatherPipeMapReduce/src/main/java/edu/purdue/eaps/weatherpipe/weatherpipemapreduce/\r\n",
      "x WeatherPipe-0.2/WeatherPipe/src/main/dist/WeatherPipeMapReduce/src/main/java/edu/purdue/eaps/weatherpipe/weatherpipemapreduce/Map.java\r\n",
      "x WeatherPipe-0.2/WeatherPipe/src/main/dist/WeatherPipeMapReduce/src/main/java/edu/purdue/eaps/weatherpipe/weatherpipemapreduce/MapReduceAnalysis.java\r\n",
      "x WeatherPipe-0.2/WeatherPipe/src/main/dist/WeatherPipeMapReduce/src/main/java/edu/purdue/eaps/weatherpipe/weatherpipemapreduce/MapReduceSerializer.java\r\n",
      "x WeatherPipe-0.2/WeatherPipe/src/main/dist/WeatherPipeMapReduce/src/main/java/edu/purdue/eaps/weatherpipe/weatherpipemapreduce/Reduce.java\r\n",
      "x WeatherPipe-0.2/WeatherPipe/src/main/dist/WeatherPipeMapReduce/src/main/java/edu/purdue/eaps/weatherpipe/weatherpipemapreduce/ResearcherMapReduceAnalysis.java\r\n",
      "x WeatherPipe-0.2/WeatherPipe/src/main/dist/WeatherPipeMapReduce/src/main/java/edu/purdue/eaps/weatherpipe/weatherpipemapreduce/WeatherPipeMapReduce.java\r\n",
      "x WeatherPipe-0.2/WeatherPipe/src/main/dist/lib/\r\n",
      "x WeatherPipe-0.2/WeatherPipe/src/main/dist/lib/log4j.properties\r\n",
      "x WeatherPipe-0.2/WeatherPipe/src/main/java/\r\n",
      "x WeatherPipe-0.2/WeatherPipe/src/main/java/edu/\r\n",
      "x WeatherPipe-0.2/WeatherPipe/src/main/java/edu/purdue/\r\n",
      "x WeatherPipe-0.2/WeatherPipe/src/main/java/edu/purdue/eaps/\r\n",
      "x WeatherPipe-0.2/WeatherPipe/src/main/java/edu/purdue/eaps/weatherpipe/\r\n",
      "x WeatherPipe-0.2/WeatherPipe/src/main/java/edu/purdue/eaps/weatherpipe/AWSAnonInterface.java\r\n",
      "x WeatherPipe-0.2/WeatherPipe/src/main/java/edu/purdue/eaps/weatherpipe/AWSInterface.java\r\n",
      "x WeatherPipe-0.2/WeatherPipe/src/main/java/edu/purdue/eaps/weatherpipe/LocalInterface.java\r\n",
      "x WeatherPipe-0.2/WeatherPipe/src/main/java/edu/purdue/eaps/weatherpipe/MapReduceBuilder.java\r\n",
      "x WeatherPipe-0.2/WeatherPipe/src/main/java/edu/purdue/eaps/weatherpipe/MapReduceInterface.java\r\n",
      "x WeatherPipe-0.2/WeatherPipe/src/main/java/edu/purdue/eaps/weatherpipe/RadarFilePicker.java\r\n",
      "x WeatherPipe-0.2/WeatherPipe/src/main/java/edu/purdue/eaps/weatherpipe/WeatherPipe.java\r\n",
      "x WeatherPipe-0.2/WeatherPipe/src/main/java/edu/purdue/eaps/weatherpipe/WeatherPipeFileWriter.java\r\n",
      "x WeatherPipe-0.2/WeatherPipe/src/main/java/edu/purdue/eaps/weatherpipe/test/\r\n",
      "x WeatherPipe-0.2/WeatherPipe/src/main/java/edu/purdue/eaps/weatherpipe/test/AWSInterfaceTest.java\r\n",
      "x WeatherPipe-0.2/WeatherPipe/src/main/java/edu/purdue/eaps/weatherpipe/test/RadarFilePickerTest.java\r\n"
     ]
    }
   ],
   "source": [
    "!tar -xvzf v0.2.tar.gz"
   ]
  },
  {
   "cell_type": "markdown",
   "metadata": {},
   "source": [
    "### Set up a Working Environment"
   ]
  },
  {
   "cell_type": "code",
   "execution_count": 31,
   "metadata": {
    "collapsed": false
   },
   "outputs": [],
   "source": [
    "! rm v0.2.tar.gz\n",
    "# run: gradle build in WeatherPipe-0.2/WeatherPipe/\n",
    "! mkdir WeatherPipe-0.2/WeatherPipe/working\n",
    "! cp WeatherPipe-0.2/WeatherPipe/build/distributions/WeatherPipe.tar WeatherPipe-0.2/WeatherPipe/working"
   ]
  },
  {
   "cell_type": "markdown",
   "metadata": {},
   "source": [
    "### Extract Required .jar Files"
   ]
  },
  {
   "cell_type": "code",
   "execution_count": 33,
   "metadata": {
    "collapsed": false,
    "scrolled": true
   },
   "outputs": [
    {
     "name": "stdout",
     "output_type": "stream",
     "text": [
      "x WeatherPipe/\n",
      "x WeatherPipe/ExampleAnalyses/\n",
      "x WeatherPipe/ExampleAnalyses/ResearcherMapReduceAnalysisArrayAverageExample.java\n",
      "x WeatherPipe/ExampleAnalyses/ResearcherMapReduceAnalysisEmpty.java\n",
      "x WeatherPipe/ExampleAnalyses/ResearcherMapReduceAnalysisReflectivityAverageWithNetcdfOutput.java\n",
      "x WeatherPipe/ExampleAnalyses/ResearcherMapReduceAnalysisScalarAverageExample.java\n",
      "x WeatherPipe/lib/\n",
      "x WeatherPipe/lib/log4j.properties\n",
      "x WeatherPipe/WeatherPipe.ini\n",
      "x WeatherPipe/WeatherPipeMapReduce/\n",
      "x WeatherPipe/WeatherPipeMapReduce/build.gradle\n",
      "x WeatherPipe/WeatherPipeMapReduce/src/\n",
      "x WeatherPipe/WeatherPipeMapReduce/src/main/\n",
      "x WeatherPipe/WeatherPipeMapReduce/src/main/java/\n",
      "x WeatherPipe/WeatherPipeMapReduce/src/main/java/edu/\n",
      "x WeatherPipe/WeatherPipeMapReduce/src/main/java/edu/purdue/\n",
      "x WeatherPipe/WeatherPipeMapReduce/src/main/java/edu/purdue/eaps/\n",
      "x WeatherPipe/WeatherPipeMapReduce/src/main/java/edu/purdue/eaps/weatherpipe/\n",
      "x WeatherPipe/WeatherPipeMapReduce/src/main/java/edu/purdue/eaps/weatherpipe/weatherpipemapreduce/\n",
      "x WeatherPipe/WeatherPipeMapReduce/src/main/java/edu/purdue/eaps/weatherpipe/weatherpipemapreduce/Map.java\n",
      "x WeatherPipe/WeatherPipeMapReduce/src/main/java/edu/purdue/eaps/weatherpipe/weatherpipemapreduce/MapReduceAnalysis.java\n",
      "x WeatherPipe/WeatherPipeMapReduce/src/main/java/edu/purdue/eaps/weatherpipe/weatherpipemapreduce/MapReduceSerializer.java\n",
      "x WeatherPipe/WeatherPipeMapReduce/src/main/java/edu/purdue/eaps/weatherpipe/weatherpipemapreduce/Reduce.java\n",
      "x WeatherPipe/WeatherPipeMapReduce/src/main/java/edu/purdue/eaps/weatherpipe/weatherpipemapreduce/ResearcherMapReduceAnalysis.java\n",
      "x WeatherPipe/WeatherPipeMapReduce/src/main/java/edu/purdue/eaps/weatherpipe/weatherpipemapreduce/WeatherPipeMapReduce.java\n",
      "x WeatherPipe/lib/WeatherPipe.jar\n",
      "x WeatherPipe/lib/commons-cli-1.3.jar\n",
      "x WeatherPipe/lib/aws-java-sdk-1.10.30.jar\n",
      "x WeatherPipe/lib/joda-time-2.8.2.jar\n",
      "x WeatherPipe/lib/commons-io-2.4.jar\n",
      "x WeatherPipe/lib/json-20140107.jar\n",
      "x WeatherPipe/lib/junit-4.12.jar\n",
      "x WeatherPipe/lib/log4j-1.2.17.jar\n",
      "x WeatherPipe/lib/commons-configuration-1.10.jar\n",
      "x WeatherPipe/lib/aws-java-sdk-support-1.10.30.jar\n",
      "x WeatherPipe/lib/aws-java-sdk-simpledb-1.10.30.jar\n",
      "x WeatherPipe/lib/aws-java-sdk-simpleworkflow-1.10.30.jar\n",
      "x WeatherPipe/lib/aws-java-sdk-storagegateway-1.10.30.jar\n",
      "x WeatherPipe/lib/aws-java-sdk-route53-1.10.30.jar\n",
      "x WeatherPipe/lib/aws-java-sdk-s3-1.10.30.jar\n",
      "x WeatherPipe/lib/aws-java-sdk-importexport-1.10.30.jar\n",
      "x WeatherPipe/lib/aws-java-sdk-sts-1.10.30.jar\n",
      "x WeatherPipe/lib/aws-java-sdk-sqs-1.10.30.jar\n",
      "x WeatherPipe/lib/aws-java-sdk-rds-1.10.30.jar\n",
      "x WeatherPipe/lib/aws-java-sdk-redshift-1.10.30.jar\n",
      "x WeatherPipe/lib/aws-java-sdk-elasticbeanstalk-1.10.30.jar\n",
      "x WeatherPipe/lib/aws-java-sdk-glacier-1.10.30.jar\n",
      "x WeatherPipe/lib/aws-java-sdk-iam-1.10.30.jar\n",
      "x WeatherPipe/lib/aws-java-sdk-datapipeline-1.10.30.jar\n",
      "x WeatherPipe/lib/aws-java-sdk-elasticloadbalancing-1.10.30.jar\n",
      "x WeatherPipe/lib/aws-java-sdk-emr-1.10.30.jar\n",
      "x WeatherPipe/lib/aws-java-sdk-elasticache-1.10.30.jar\n",
      "x WeatherPipe/lib/aws-java-sdk-elastictranscoder-1.10.30.jar\n",
      "x WeatherPipe/lib/aws-java-sdk-ec2-1.10.30.jar\n",
      "x WeatherPipe/lib/aws-java-sdk-dynamodb-1.10.30.jar\n",
      "x WeatherPipe/lib/aws-java-sdk-sns-1.10.30.jar\n",
      "x WeatherPipe/lib/aws-java-sdk-cloudtrail-1.10.30.jar\n",
      "x WeatherPipe/lib/aws-java-sdk-cloudwatch-1.10.30.jar\n",
      "x WeatherPipe/lib/aws-java-sdk-logs-1.10.30.jar\n",
      "x WeatherPipe/lib/aws-java-sdk-cognitoidentity-1.10.30.jar\n",
      "x WeatherPipe/lib/aws-java-sdk-cognitosync-1.10.30.jar\n",
      "x WeatherPipe/lib/aws-java-sdk-directconnect-1.10.30.jar\n",
      "x WeatherPipe/lib/aws-java-sdk-cloudformation-1.10.30.jar\n",
      "x WeatherPipe/lib/aws-java-sdk-cloudfront-1.10.30.jar\n",
      "x WeatherPipe/lib/aws-java-sdk-kinesis-1.10.30.jar\n",
      "x WeatherPipe/lib/aws-java-sdk-opsworks-1.10.30.jar\n",
      "x WeatherPipe/lib/aws-java-sdk-ses-1.10.30.jar\n",
      "x WeatherPipe/lib/aws-java-sdk-autoscaling-1.10.30.jar\n",
      "x WeatherPipe/lib/aws-java-sdk-cloudsearch-1.10.30.jar\n",
      "x WeatherPipe/lib/aws-java-sdk-cloudwatchmetrics-1.10.30.jar\n",
      "x WeatherPipe/lib/aws-java-sdk-swf-libraries-1.10.30.jar\n",
      "x WeatherPipe/lib/aws-java-sdk-codedeploy-1.10.30.jar\n",
      "x WeatherPipe/lib/aws-java-sdk-codepipeline-1.10.30.jar\n",
      "x WeatherPipe/lib/aws-java-sdk-kms-1.10.30.jar\n",
      "x WeatherPipe/lib/aws-java-sdk-config-1.10.30.jar\n",
      "x WeatherPipe/lib/aws-java-sdk-lambda-1.10.30.jar\n",
      "x WeatherPipe/lib/aws-java-sdk-ecs-1.10.30.jar\n",
      "x WeatherPipe/lib/aws-java-sdk-cloudhsm-1.10.30.jar\n",
      "x WeatherPipe/lib/aws-java-sdk-ssm-1.10.30.jar\n",
      "x WeatherPipe/lib/aws-java-sdk-workspaces-1.10.30.jar\n",
      "x WeatherPipe/lib/aws-java-sdk-machinelearning-1.10.30.jar\n",
      "x WeatherPipe/lib/aws-java-sdk-directory-1.10.30.jar\n",
      "x WeatherPipe/lib/aws-java-sdk-efs-1.10.30.jar\n",
      "x WeatherPipe/lib/aws-java-sdk-codecommit-1.10.30.jar\n",
      "x WeatherPipe/lib/aws-java-sdk-devicefarm-1.10.30.jar\n",
      "x WeatherPipe/lib/aws-java-sdk-elasticsearch-1.10.30.jar\n",
      "x WeatherPipe/lib/aws-java-sdk-waf-1.10.30.jar\n",
      "x WeatherPipe/lib/aws-java-sdk-marketplacecommerceanalytics-1.10.30.jar\n",
      "x WeatherPipe/lib/aws-java-sdk-inspector-1.10.30.jar\n",
      "x WeatherPipe/lib/aws-java-sdk-iot-1.10.30.jar\n",
      "x WeatherPipe/lib/aws-java-sdk-api-gateway-1.10.30.jar\n",
      "x WeatherPipe/lib/aws-java-sdk-core-1.10.30.jar\n",
      "x WeatherPipe/lib/hamcrest-core-1.3.jar\n",
      "x WeatherPipe/lib/commons-lang-2.6.jar\n",
      "x WeatherPipe/lib/httpclient-4.3.6.jar\n",
      "x WeatherPipe/lib/jackson-databind-2.5.3.jar\n",
      "x WeatherPipe/lib/httpcore-4.3.3.jar\n",
      "x WeatherPipe/lib/commons-codec-1.6.jar\n",
      "x WeatherPipe/lib/jackson-annotations-2.5.0.jar\n",
      "x WeatherPipe/lib/jackson-core-2.5.3.jar\n",
      "x WeatherPipe/lib/commons-logging-1.1.3.jar\n",
      "x WeatherPipe/bin/\n",
      "x WeatherPipe/bin/WeatherPipe\n",
      "x WeatherPipe/bin/WeatherPipe.bat\n"
     ]
    }
   ],
   "source": [
    "! tar xfv WeatherPipe-0.2/WeatherPipe/working/WeatherPipe.tar"
   ]
  },
  {
   "cell_type": "markdown",
   "metadata": {},
   "source": [
    "## User Input: construct MapReduce Analysis of your choice\n",
    "### Mapper: Extract Reflectivity Variable"
   ]
  },
  {
   "cell_type": "code",
   "execution_count": 36,
   "metadata": {
    "collapsed": false,
    "scrolled": false
   },
   "outputs": [
    {
     "name": "stdout",
     "output_type": "stream",
     "text": [
      "protected double[] mapAnalyze(NetcdfFile nexradNetCDF) {\r\n",
      "\t\tint i;\r\n",
      "\t\tArray dataArray;\r\n",
      "\t\tdouble[] retArray = null;\r\n",
      "\t\tbyte[] bytes;\r\n",
      "\t\t\r\n",
      "\t\t// SHAPE is scanR=7, radialR=360, gateR=1336\r\n",
      "\r\n",
      "\r\n",
      "\t\tVariable reflectivity = nexradNetCDF.findVariable(\"Reflectivity\");\r\n",
      "\t\tif(reflectivity == null) return null;\r\n",
      "\t\tSystem.out.println(\"reflectivity shape - \" + Arrays.toString(reflectivity.getShape()));\r\n",
      "\t\t\r\n",
      "\t\ttry {\r\n",
      "\t\t\tdataArray = reflectivity.read();\r\n",
      "\t\t} catch (IOException e) {\r\n",
      "\t\t\te.printStackTrace();\r\n",
      "\t\t\treturn null;\r\n",
      "\t\t}\r\n",
      "\t\t\r\n",
      "\t\tbytes = (byte[]) dataArray.copyTo1DJavaArray();\r\n",
      "\t\t\r\n",
      "\t\tretArray = new double[bytes.length];\r\n",
      "\t\t\r\n",
      "\t\tfor(i = 0; i < bytes.length; i++) {\r\n",
      "\t\t\tretArray[i] = (double) bytes[i];\r\n",
      "\t\t}\r\n",
      "\t\t\t\t\r\n",
      "\t\treturn retArray;\r\n",
      "\t\r\n",
      "\t}\r\n",
      "\r\n",
      "\tdouble[] runningSumsArray = null;\r\n",
      "\tint numberOfDataPoints = 0;"
     ]
    }
   ],
   "source": [
    "! cat JavaMapReduce/Mapper.java"
   ]
  },
  {
   "cell_type": "markdown",
   "metadata": {},
   "source": [
    "### Reducer: Reflectivity Average"
   ]
  },
  {
   "cell_type": "code",
   "execution_count": 37,
   "metadata": {
    "collapsed": false
   },
   "outputs": [
    {
     "name": "stdout",
     "output_type": "stream",
     "text": [
      "protected double[] reduceAnalyze(double[] input) {\r\n",
      "\t\tif(input == null) return null;\r\n",
      "\t\tif(runningSumsArray != null && input.length != runningSumsArray.length) return null;\r\n",
      "\t\t\r\n",
      "\t\tif(runningSumsArray == null) runningSumsArray = new double[input.length];\r\n",
      "\t\tdouble[] averageArray = new double[runningSumsArray.length];\r\n",
      "\t\t\r\n",
      "\t\tnumberOfDataPoints++;\r\n",
      "\r\n",
      "\t\tfor(int i = 0; i < input.length; i++) {\r\n",
      "\t\t\trunningSumsArray[i] += input[i];\r\n",
      "\t\t\taverageArray[i] = runningSumsArray[i]/numberOfDataPoints;\r\n",
      "\t\t}\r\n",
      "\t\t\r\n",
      "\t\t\r\n",
      "\t\treturn averageArray;\r\n",
      "\t}"
     ]
    }
   ],
   "source": [
    "# Compute average\n",
    "! cat JavaMapReduce/Reducer.java"
   ]
  },
  {
   "cell_type": "markdown",
   "metadata": {},
   "source": [
    "### Add Costumized Functions to WeatherPipe"
   ]
  },
  {
   "cell_type": "code",
   "execution_count": 34,
   "metadata": {
    "collapsed": true
   },
   "outputs": [],
   "source": [
    "! cp WeatherPipe/ExampleAnalyses/ResearcherMapReduceAnalysisReflectivityAverageWithNetcdfOutput.java WeatherPipe/WeatherPipeMapReduce/src/main/java/edu/purdue/eaps/weatherpipe/weatherpipemapreduce/ResearcherMapReduceAnalysis.java"
   ]
  },
  {
   "cell_type": "markdown",
   "metadata": {},
   "source": [
    "## Query and Run MapReduce Job in One Line\n",
    "### Analysis and EMR Flags\n",
    "- s,--start_time - Start search boundary for NEXRAD data search. Date Format is dd/MM/yyyy HH:mm:ss\n",
    "- e,--end_time - End search boundary for NEXRAD data search. Date Format is dd/MM/yyyy HH:mm:ss\n",
    "- st,--station - Radar station abbreviation ex. \"KIND\"\n",
    "- b,--bucket_name - Bucket name in S3 to place input and output data. Will be auto-generated if not given\n",
    "- i,--instance_count - The amount of instances to run the analysis on. Default is 1.\n",
    "- t,--instance_type - Instance type for EMR job. Default is c3.xlarge.\n"
   ]
  },
  {
   "cell_type": "code",
   "execution_count": 35,
   "metadata": {
    "collapsed": false
   },
   "outputs": [
    {
     "name": "stdout",
     "output_type": "stream",
     "text": [
      "Attempting to build Map Reduce with\n",
      "gradle: /usr/local/bin/gradle\n",
      "build directory: /Users/marvinbertin/Github/Weather-Data-Eng-Pipeline/WeatherPipe/WeatherPipeMapReduce\n",
      "\n",
      "Download https://repo1.maven.org/maven2/org/apache/logging/log4j/log4j-core/2.4/log4j-core-2.4.pom\n",
      "Download https://repo1.maven.org/maven2/org/apache/logging/log4j/log4j/2.4/log4j-2.4.pom\n",
      "Download https://artifacts.unidata.ucar.edu/content/repositories/unidata-releases/edu/ucar/netcdf4/4.6.3/netcdf4-4.6.3.pom\n",
      "Download https://repo1.maven.org/maven2/org/apache/hadoop/hadoop-mapreduce-client-core/2.4.0/hadoop-mapreduce-client-core-2.4.0.pom\n",
      "Download https://repo1.maven.org/maven2/org/apache/hadoop/hadoop-mapreduce-client/2.4.0/hadoop-mapreduce-client-2.4.0.pom\n",
      "Download https://repo1.maven.org/maven2/org/apache/logging/log4j/log4j-api/2.4/log4j-api-2.4.pom\n",
      "Download https://artifacts.unidata.ucar.edu/content/repositories/unidata-releases/edu/ucar/cdm/4.6.3/cdm-4.6.3.pom\n",
      "Download https://repo1.maven.org/maven2/org/apache/hadoop/hadoop-yarn-common/2.4.0/hadoop-yarn-common-2.4.0.pom\n",
      "Download https://repo1.maven.org/maven2/org/apache/hadoop/hadoop-yarn/2.4.0/hadoop-yarn-2.4.0.pom\n",
      "Download https://artifacts.unidata.ucar.edu/content/repositories/unidata-releases/edu/ucar/udunits/4.6.3/udunits-4.6.3.pom\n",
      "Download https://artifacts.unidata.ucar.edu/content/repositories/unidata-releases/edu/ucar/httpservices/4.6.3/httpservices-4.6.3.pom\n",
      "Download https://repo1.maven.org/maven2/org/jdom/jdom2/2.0.4/jdom2-2.0.4.pom\n",
      "Download https://repo1.maven.org/maven2/net/jcip/jcip-annotations/1.0/jcip-annotations-1.0.pom\n",
      "Download https://repo1.maven.org/maven2/org/quartz-scheduler/quartz/2.2.0/quartz-2.2.0.pom\n",
      "Download https://repo1.maven.org/maven2/org/quartz-scheduler/quartz-parent/2.2.0/quartz-parent-2.2.0.pom\n",
      "Download https://repo1.maven.org/maven2/com/beust/jcommander/1.35/jcommander-1.35.pom\n",
      "Download https://repo1.maven.org/maven2/org/apache/hadoop/hadoop-yarn-api/2.4.0/hadoop-yarn-api-2.4.0.pom\n",
      "Download https://repo1.maven.org/maven2/org/apache/httpcomponents/httpmime/4.4.1/httpmime-4.4.1.pom\n",
      "Download https://repo1.maven.org/maven2/org/apache/httpcomponents/httpcomponents-client/4.4.1/httpcomponents-client-4.4.1.pom\n",
      "Download https://repo1.maven.org/maven2/org/sonatype/sisu/inject/cglib/2.2.1-v20090111/cglib-2.2.1-v20090111.pom\n",
      "Download https://repo1.maven.org/maven2/org/apache/httpcomponents/httpclient/4.4.1/httpclient-4.4.1.pom\n",
      "Download https://repo1.maven.org/maven2/org/apache/logging/log4j/log4j-core/2.4/log4j-core-2.4.jar\n",
      "Download https://artifacts.unidata.ucar.edu/content/repositories/unidata-releases/edu/ucar/netcdf4/4.6.3/netcdf4-4.6.3.jar\n",
      "Download https://repo1.maven.org/maven2/org/apache/hadoop/hadoop-mapreduce-client-core/2.4.0/hadoop-mapreduce-client-core-2.4.0.jar\n",
      "Download https://repo1.maven.org/maven2/org/apache/logging/log4j/log4j-api/2.4/log4j-api-2.4.jar\n",
      "Download https://artifacts.unidata.ucar.edu/content/repositories/unidata-releases/edu/ucar/cdm/4.6.3/cdm-4.6.3.jar\n",
      "Download https://repo1.maven.org/maven2/org/slf4j/slf4j-api/1.7.7/slf4j-api-1.7.7.jar\n",
      "Download https://repo1.maven.org/maven2/org/apache/hadoop/hadoop-yarn-common/2.4.0/hadoop-yarn-common-2.4.0.jar\n",
      "Download https://artifacts.unidata.ucar.edu/content/repositories/unidata-releases/edu/ucar/udunits/4.6.3/udunits-4.6.3.jar\n",
      "Download https://artifacts.unidata.ucar.edu/content/repositories/unidata-releases/edu/ucar/httpservices/4.6.3/httpservices-4.6.3.jar\n",
      "Download https://repo1.maven.org/maven2/org/jdom/jdom2/2.0.4/jdom2-2.0.4.jar\n",
      "Download https://repo1.maven.org/maven2/net/jcip/jcip-annotations/1.0/jcip-annotations-1.0.jar\n",
      "Download https://repo1.maven.org/maven2/org/quartz-scheduler/quartz/2.2.0/quartz-2.2.0.jar\n",
      "Download https://repo1.maven.org/maven2/com/beust/jcommander/1.35/jcommander-1.35.jar\n",
      "Download https://repo1.maven.org/maven2/org/apache/hadoop/hadoop-yarn-api/2.4.0/hadoop-yarn-api-2.4.0.jar\n",
      "Download https://repo1.maven.org/maven2/org/apache/httpcomponents/httpmime/4.4.1/httpmime-4.4.1.jar\n",
      "Download https://repo1.maven.org/maven2/org/sonatype/sisu/inject/cglib/2.2.1-v20090111/cglib-2.2.1-v20090111.jar\n",
      "Download https://repo1.maven.org/maven2/org/apache/httpcomponents/httpclient/4.4.1/httpclient-4.4.1.jar\n",
      ":compileJava\n",
      ":processResources UP-TO-DATE\n",
      ":classes\n",
      ":jar\n",
      ":assemble\n",
      ":compileTestJava UP-TO-DATE\n",
      ":processTestResources UP-TO-DATE\n",
      ":testClasses UP-TO-DATE\n",
      ":test UP-TO-DATE\n",
      ":check UP-TO-DATE\n",
      ":build\n",
      "\n",
      "BUILD SUCCESSFUL\n",
      "\n",
      "Total time: 40.791 secs\n",
      "\n",
      "Build completed\n",
      "\n",
      "MapReduce jar location: /Users/marvinbertin/Github/Weather-Data-Eng-Pipeline/WeatherPipe/WeatherPipeMapReduce/build/libs/WeatherPipeMapReduce.jar\n",
      "\n",
      "Searching NEXRAD Files\n",
      "Found 27 NEXRAD Radar files between 2010-01-01T12:30:00.000-08:00 and 2010-01-01T23:00:00.000-08:00\n",
      "\n",
      "Search for/Create WeatherPipe S3 bucket\n",
      "Using bucket s3n://weatherpipe.eda788101b5b4e94142f60c2b838bf39cfea788f7e24d0712d/\n",
      "Uploading Input file... \n",
      "Transfered: 1K / 1K\n",
      "Transfer Complete\n",
      "Uploading Jar file... \n",
      "Transfered: 62769K / 62769K\n",
      "Transfer Complete\n",
      "Instance type is set to default: c3.xlarge\n",
      "\n",
      "Using EMR Hadoop v2.4.0\n",
      "Using instance count: 1\n",
      "Using master instance type: c3.xlarge\n",
      "Using slave instance type: c3.xlarge\n",
      "Configuring flow: WeatherPipe_2016-03-05T20.46.157\n",
      "\tusing log URI: s3n://weatherpipe.eda788101b5b4e94142f60c2b838bf39cfea788f7e24d0712d/2016-03-05T20.46.157.log\n",
      "\tusing jar URI: s3n://weatherpipe.eda788101b5b4e94142f60c2b838bf39cfea788f7e24d0712d/2016-03-05T20.46.157WeatherPipeMapreduce.jar\n",
      "\tusing args: [s3n://weatherpipe.eda788101b5b4e94142f60c2b838bf39cfea788f7e24d0712d/2016-03-05T20.46.157_input, s3n://weatherpipe.eda788101b5b4e94142f60c2b838bf39cfea788f7e24d0712d/2016-03-05T20.46.157_output]\n",
      "Configured hadoop jar succesfully!\n",
      "\n",
      "Trying to run job flow!\n",
      "\n",
      "Current State of Cluster: TERMINATED \n",
      "Downloading Output\n",
      "Transfer Complete\n",
      "The job has ended and output has been downloaded to WeatherPipeJob2016-03-05T20.46.157\n",
      "Normalized instance hours: 8\n",
      "Approximate cost of this run: $0.09\n",
      "The job took 316 seconds to finish\n",
      "log4j:WARN No appenders could be found for logger (com.amazonaws.AmazonWebServiceClient).\n",
      "log4j:WARN Please initialize the log4j system properly.\n",
      "log4j:WARN See http://logging.apache.org/log4j/1.2/faq.html#noconfig for more info.\n",
      "\n",
      "Amazon EMR job shutdown\n"
     ]
    }
   ],
   "source": [
    "! WeatherPipe/bin/WeatherPipe -s \"01/01/2010 12:30:00\" -e \"01/01/2010 23:00:00\" -st KIND -b data-eng-project -i 1 -t c3.2xlarge"
   ]
  },
  {
   "cell_type": "markdown",
   "metadata": {},
   "source": [
    "### Output directory"
   ]
  },
  {
   "cell_type": "code",
   "execution_count": 47,
   "metadata": {
    "collapsed": false
   },
   "outputs": [
    {
     "name": "stdout",
     "output_type": "stream",
     "text": [
      "2016-03-05T20.46.157_raw_map_reduce_output\r\n",
      "\u001b[34mjob_setup\u001b[m\u001b[m\r\n",
      "jsonOutputFile.json\r\n",
      "\u001b[34mlogs\u001b[m\u001b[m\r\n",
      "netcdfOut\r\n"
     ]
    }
   ],
   "source": [
    "! ls WeatherPipeJob2016-03-05T20.46.157/"
   ]
  },
  {
   "cell_type": "markdown",
   "metadata": {},
   "source": [
    "### Average Reflectivity"
   ]
  },
  {
   "cell_type": "code",
   "execution_count": 49,
   "metadata": {
    "collapsed": false
   },
   "outputs": [
    {
     "name": "stdout",
     "output_type": "stream",
     "text": [
      "{\"average\": [9.32856374]}"
     ]
    }
   ],
   "source": [
    "! cat WeatherPipeJob2016-03-05T20.46.157/jsonOutputFile.json"
   ]
  },
  {
   "cell_type": "markdown",
   "metadata": {},
   "source": [
    "### Check out your S3 Bucket for complete outputs"
   ]
  },
  {
   "cell_type": "code",
   "execution_count": null,
   "metadata": {
    "collapsed": true
   },
   "outputs": [],
   "source": []
  }
 ],
 "metadata": {
  "kernelspec": {
   "display_name": "Python 2",
   "language": "python",
   "name": "python2"
  },
  "language_info": {
   "codemirror_mode": {
    "name": "ipython",
    "version": 2
   },
   "file_extension": ".py",
   "mimetype": "text/x-python",
   "name": "python",
   "nbconvert_exporter": "python",
   "pygments_lexer": "ipython2",
   "version": "2.7.11"
  }
 },
 "nbformat": 4,
 "nbformat_minor": 0
}
