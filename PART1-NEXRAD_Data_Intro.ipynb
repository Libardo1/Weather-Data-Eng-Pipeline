{
 "cells": [
  {
   "cell_type": "markdown",
   "metadata": {},
   "source": [
    "# PART1 - NEXRAD Radar Dataset Introduction\n",
    "\n",
    "The [NEXRAD data](https://aws.amazon.com/noaa-big-data/nexrad/) is a public dataset hosted on amazon.\n",
    "\n",
    "### Fun Facts\n",
    "- Stands for Next Generation Weather Radar\n",
    "- Network of 160 high-resolution Doppler radar sites that detects precipitation and atmospheric movement\n",
    "- Historical archives from June 1991 to present\n",
    "- Real-time streaming (5 minute intervals from each site)\n",
    "- Both streams are available on aws S3 buckets\n",
    "- Enables Storm Prediction\n",
    "- Study of weather's impact on various sectors"
   ]
  },
  {
   "cell_type": "markdown",
   "metadata": {},
   "source": [
    "![](image/radarMap2.jpg)"
   ]
  },
  {
   "cell_type": "markdown",
   "metadata": {},
   "source": [
    "## Next Generation Weather Radar\n",
    "### High resolution 3D Atmosphering Mapping"
   ]
  },
  {
   "cell_type": "markdown",
   "metadata": {},
   "source": [
    "![](image/radarMap1.png)"
   ]
  },
  {
   "cell_type": "markdown",
   "metadata": {},
   "source": [
    "## Perfect for Studying Storms and Hurricanes!\n",
    "\n",
    "[NOAA's Weather and Climate Toolkit](http://www.ncdc.noaa.gov/wct/install.php) is a desktop application that allows for powerful atmospheric analysis."
   ]
  },
  {
   "cell_type": "markdown",
   "metadata": {},
   "source": [
    "![](image/hurricane.png)"
   ]
  },
  {
   "cell_type": "markdown",
   "metadata": {},
   "source": [
    "This **Climat Toolkit** is fantastic, but unfortunately only runs locally. This project attempts to reproduce some of it's funtionality in a **notebook and in the cloud**.\n",
    "Radar data requires a lot of **storage and computation** when processed, so it makes sense run some of the analysis in a **distributed context**."
   ]
  }
 ],
 "metadata": {
  "kernelspec": {
   "display_name": "Python 2",
   "language": "python",
   "name": "python2"
  },
  "language_info": {
   "codemirror_mode": {
    "name": "ipython",
    "version": 2
   },
   "file_extension": ".py",
   "mimetype": "text/x-python",
   "name": "python",
   "nbconvert_exporter": "python",
   "pygments_lexer": "ipython2",
   "version": "2.7.11"
  }
 },
 "nbformat": 4,
 "nbformat_minor": 0
}
