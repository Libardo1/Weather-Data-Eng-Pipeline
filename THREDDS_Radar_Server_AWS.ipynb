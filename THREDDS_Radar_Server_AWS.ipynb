{
 "cells": [
  {
   "cell_type": "markdown",
   "metadata": {},
   "source": [
    "# Using Python to Access NCEI Archived NEXRAD Level 2 Data"
   ]
  },
  {
   "cell_type": "markdown",
   "metadata": {},
   "source": [
    "This notebook shows how to access the THREDDS Data Server (TDS) instance that is serving up archived NEXRAD Level 2 data hosted on Amazon S3. The TDS provides a mechanism to query for available data files, as well as provides access to the data as native volume files, through OPeNDAP, and using its own CDMRemote protocol. Since we're using Python, we can take advantage of Unidata's Siphon package, which provides an easy API for talking to THREDDS servers.\n",
    "\n",
    "**NOTE:** Due to data charges, the TDS instance in AWS only allows access to .edu domains. For other users interested in using Siphon to access radar data, you can access recent (2 weeks') data by changing the server URL below to: http://thredds.ucar.edu/thredds/radarServer/nexrad/level2/IDD/\n",
    "\n",
    "**But first!**\n",
    "Bookmark these resources for when you want to use Siphon later!\n",
    "+ [latest Siphon documentation](http://siphon.readthedocs.org/en/latest/)\n",
    "+ [Siphon github repo](https://github.com/Unidata/siphon)\n",
    "+ [TDS documentation](http://www.unidata.ucar.edu/software/thredds/current/tds/TDS.html)"
   ]
  },
  {
   "cell_type": "markdown",
   "metadata": {},
   "source": [
    "## Downloading the single latest volume\n"
   ]
  },
  {
   "cell_type": "markdown",
   "metadata": {},
   "source": [
    "Just a bit of initial set-up to use inline figures and quiet some warnings."
   ]
  },
  {
   "cell_type": "code",
   "execution_count": 1,
   "metadata": {
    "collapsed": false
   },
   "outputs": [
    {
     "name": "stderr",
     "output_type": "stream",
     "text": [
      "/Users/marvinbertin/anaconda/lib/python2.7/site-packages/matplotlib/font_manager.py:273: UserWarning: Matplotlib is building the font cache using fc-list. This may take a moment.\n",
      "  warnings.warn('Matplotlib is building the font cache using fc-list. This may take a moment.')\n"
     ]
    }
   ],
   "source": [
    "import matplotlib\n",
    "import warnings\n",
    "warnings.filterwarnings(\"ignore\", category=matplotlib.cbook.MatplotlibDeprecationWarning)\n",
    "%matplotlib inline"
   ]
  },
  {
   "cell_type": "markdown",
   "metadata": {},
   "source": [
    "First we'll create an instance of RadarServer to point to the appropriate radar server access URL."
   ]
  },
  {
   "cell_type": "code",
   "execution_count": 3,
   "metadata": {
    "collapsed": false
   },
   "outputs": [
    {
     "name": "stdout",
     "output_type": "stream",
     "text": [
      "Collecting siphon\n",
      "  Downloading siphon-0.3.2-py2.py3-none-any.whl\n",
      "Requirement already satisfied (use --upgrade to upgrade): requests>=1.2 in /Users/marvinbertin/anaconda/lib/python2.7/site-packages (from siphon)\n",
      "Requirement already satisfied (use --upgrade to upgrade): numpy>=1.8 in /Users/marvinbertin/anaconda/lib/python2.7/site-packages (from siphon)\n",
      "Collecting protobuf>=3.0.0a3 (from siphon)\n",
      "  Downloading protobuf-3.0.0b2-py2.py3-none-any.whl (326kB)\n",
      "\u001b[K    100% |████████████████████████████████| 327kB 628kB/s \n",
      "\u001b[?25hCollecting netCDF4>=1.1.0 (from siphon)\n",
      "  Downloading netCDF4-1.2.2-cp27-none-macosx_10_6_intel.macosx_10_9_intel.macosx_10_9_x86_64.macosx_10_10_intel.macosx_10_10_x86_64.whl (4.7MB)\n",
      "\u001b[K    100% |████████████████████████████████| 4.7MB 51kB/s \n",
      "\u001b[?25hRequirement already satisfied (use --upgrade to upgrade): setuptools in /Users/marvinbertin/anaconda/lib/python2.7/site-packages/setuptools-19.4-py2.7.egg (from protobuf>=3.0.0a3->siphon)\n",
      "Requirement already satisfied (use --upgrade to upgrade): six>=1.9 in /Users/marvinbertin/anaconda/lib/python2.7/site-packages (from protobuf>=3.0.0a3->siphon)\n",
      "Installing collected packages: protobuf, netCDF4, siphon\n",
      "Successfully installed netCDF4-1.2.2 protobuf-3.0.0b2 siphon-0.3.2\n",
      "\u001b[33mYou are using pip version 8.0.2, however version 8.0.3 is available.\n",
      "You should consider upgrading via the 'pip install --upgrade pip' command.\u001b[0m\n"
     ]
    }
   ],
   "source": [
    "!pip install siphon"
   ]
  },
  {
   "cell_type": "code",
   "execution_count": 2,
   "metadata": {
    "collapsed": false
   },
   "outputs": [],
   "source": [
    "from siphon.radarserver import RadarServer\n",
    "rs = RadarServer('http://thredds.ucar.edu/thredds/radarServer/nexrad/level2/IDD/')"
   ]
  },
  {
   "cell_type": "markdown",
   "metadata": {},
   "source": [
    "Next, we'll create a new query object to help request the data. Using the chaining methods, let's ask for the latest data at the radar KLVX (Louisville, KY). We see that when the query is represented as a string, it shows the encoded URL."
   ]
  },
  {
   "cell_type": "code",
   "execution_count": 3,
   "metadata": {
    "collapsed": false
   },
   "outputs": [
    {
     "data": {
      "text/plain": [
       "time=2016-03-02T06%3A29%3A12.794655&stn=KLVX"
      ]
     },
     "execution_count": 3,
     "metadata": {},
     "output_type": "execute_result"
    }
   ],
   "source": [
    "from datetime import datetime, timedelta\n",
    "query = rs.query()\n",
    "query.stations('KLVX').time(datetime.utcnow())"
   ]
  },
  {
   "cell_type": "markdown",
   "metadata": {},
   "source": [
    "We can use the RadarServer instance to check our query, to make sure we have required parameters and that we have chosen valid station(s) and variable(s)\n"
   ]
  },
  {
   "cell_type": "code",
   "execution_count": 4,
   "metadata": {
    "collapsed": false
   },
   "outputs": [
    {
     "data": {
      "text/plain": [
       "True"
      ]
     },
     "execution_count": 4,
     "metadata": {},
     "output_type": "execute_result"
    }
   ],
   "source": [
    "rs.validate_query(query)"
   ]
  },
  {
   "cell_type": "markdown",
   "metadata": {},
   "source": [
    "Make the request, which returns an instance of TDSCatalog; this handles parsing the returned XML information."
   ]
  },
  {
   "cell_type": "code",
   "execution_count": 5,
   "metadata": {
    "collapsed": true
   },
   "outputs": [],
   "source": [
    "catalog = rs.get_catalog(query)"
   ]
  },
  {
   "cell_type": "markdown",
   "metadata": {},
   "source": [
    "We can look at the datasets on the catalog to see what data we found by the query. We find one volume in the return, since we asked for the volume nearest to a single time."
   ]
  },
  {
   "cell_type": "code",
   "execution_count": 6,
   "metadata": {
    "collapsed": false
   },
   "outputs": [
    {
     "data": {
      "text/plain": [
       "{'Level2_KLVX_20160302_0611.ar2v': <siphon.catalog.Dataset at 0x10c293710>}"
      ]
     },
     "execution_count": 6,
     "metadata": {},
     "output_type": "execute_result"
    }
   ],
   "source": [
    "catalog.datasets"
   ]
  },
  {
   "cell_type": "markdown",
   "metadata": {},
   "source": [
    "We can pull that dataset out of the dictionary and look at the available access URLs. We see URLs for OPeNDAP, CDMRemote, and HTTPServer (direct download)."
   ]
  },
  {
   "cell_type": "code",
   "execution_count": 7,
   "metadata": {
    "collapsed": false
   },
   "outputs": [
    {
     "data": {
      "text/plain": [
       "{'CdmRemote': 'http://thredds.ucar.edu/thredds/cdmremote/nexrad/level2/IDD/KLVX/20160302/Level2_KLVX_20160302_0611.ar2v',\n",
       " 'HTTPServer': 'http://thredds.ucar.edu/thredds/fileServer/nexrad/level2/IDD/KLVX/20160302/Level2_KLVX_20160302_0611.ar2v',\n",
       " 'OPENDAP': 'http://thredds.ucar.edu/thredds/dodsC/nexrad/level2/IDD/KLVX/20160302/Level2_KLVX_20160302_0611.ar2v'}"
      ]
     },
     "execution_count": 7,
     "metadata": {},
     "output_type": "execute_result"
    }
   ],
   "source": [
    "ds = list(catalog.datasets.values())[0]\n",
    "ds.access_urls"
   ]
  },
  {
   "cell_type": "markdown",
   "metadata": {},
   "source": [
    "We'll use the CDMRemote reader in Siphon and pass it the appropriate access URL."
   ]
  },
  {
   "cell_type": "code",
   "execution_count": 8,
   "metadata": {
    "collapsed": false
   },
   "outputs": [],
   "source": [
    "from siphon.cdmr import Dataset"
   ]
  },
  {
   "cell_type": "code",
   "execution_count": 9,
   "metadata": {
    "collapsed": false
   },
   "outputs": [],
   "source": [
    "data = Dataset(ds.access_urls['CdmRemote'])"
   ]
  },
  {
   "cell_type": "markdown",
   "metadata": {},
   "source": [
    "We define some helper functions to make working with the data easier. One takes the raw data and converts it to floating point values with the missing data points appropriately marked. The other helps with converting the polar coordinates (azimuth and range) to Cartesian (x and y)."
   ]
  },
  {
   "cell_type": "code",
   "execution_count": 10,
   "metadata": {
    "collapsed": false,
    "run_control": {
     "marked": false
    }
   },
   "outputs": [],
   "source": [
    "import numpy as np\n",
    "def raw_to_masked_float(var, data):\n",
    "    # Values come back signed. If the _Unsigned attribute is set, we need to convert\n",
    "    # from the range [-127, 128] to [0, 255].\n",
    "    if var._Unsigned:\n",
    "        data = data & 255\n",
    "\n",
    "    # Mask missing points\n",
    "    data = np.ma.array(data, mask=data==0)\n",
    "\n",
    "    # Convert to float using the scale and offset\n",
    "    return data * var.scale_factor + var.add_offset\n",
    "\n",
    "def polar_to_cartesian(az, rng):\n",
    "    az_rad = np.deg2rad(az)[:, None]\n",
    "    x = rng * np.sin(az_rad)\n",
    "    y = rng * np.cos(az_rad)\n",
    "    return x, y"
   ]
  },
  {
   "cell_type": "markdown",
   "metadata": {},
   "source": [
    "The CDMRemote reader provides an interface that is almost identical to the usual python NetCDF interface. We pull out the variables we need for azimuth and range, as well as the data itself."
   ]
  },
  {
   "cell_type": "code",
   "execution_count": 11,
   "metadata": {
    "collapsed": false
   },
   "outputs": [],
   "source": [
    "sweep = 0\n",
    "ref_var = data.variables['Reflectivity_HI']\n",
    "ref_data = ref_var[sweep]\n",
    "rng = data.variables['distanceR_HI'][:]\n",
    "az = data.variables['azimuthR_HI'][sweep]"
   ]
  },
  {
   "cell_type": "markdown",
   "metadata": {},
   "source": [
    "Then convert the raw data to floating point values and the polar coordinates to Cartesian."
   ]
  },
  {
   "cell_type": "code",
   "execution_count": 12,
   "metadata": {
    "collapsed": false
   },
   "outputs": [],
   "source": [
    "ref = raw_to_masked_float(ref_var, ref_data)\n",
    "x, y = polar_to_cartesian(az, rng)"
   ]
  },
  {
   "cell_type": "markdown",
   "metadata": {},
   "source": [
    "MetPy is a Python package for meteorology (Documentation: http://metpy.readthedocs.org and GitHub: http://github.com/MetPy/MetPy). We import MetPy and use it to get the colortable and value mapping information for the NWS Reflectivity data."
   ]
  },
  {
   "cell_type": "code",
   "execution_count": 13,
   "metadata": {
    "collapsed": false
   },
   "outputs": [],
   "source": [
    "from metpy.plots import ctables  # For NWS colortable\n",
    "ref_norm, ref_cmap = ctables.registry.get_with_steps('NWSReflectivity', 5, 5)"
   ]
  },
  {
   "cell_type": "markdown",
   "metadata": {},
   "source": [
    "Finally, we plot them up using matplotlib and cartopy. We create a helper function for making a map to keep things simpler later."
   ]
  },
  {
   "cell_type": "code",
   "execution_count": 14,
   "metadata": {
    "collapsed": false
   },
   "outputs": [],
   "source": [
    "import matplotlib.pyplot as plt\n",
    "import cartopy\n",
    "\n",
    "def new_map(fig, lon, lat):\n",
    "    # Create projection centered on the radar. This allows us to use x\n",
    "    # and y relative to the radar.\n",
    "    proj = cartopy.crs.LambertConformal(central_longitude=lon, central_latitude=lat)\n",
    "\n",
    "    # New axes with the specified projection\n",
    "    ax = fig.add_subplot(1, 1, 1, projection=proj)\n",
    "\n",
    "    # Add coastlines\n",
    "    ax.coastlines('50m', 'black', linewidth=2, zorder=2)\n",
    "\n",
    "    # Grab state borders\n",
    "    state_borders = cartopy.feature.NaturalEarthFeature(\n",
    "        category='cultural', name='admin_1_states_provinces_lines',\n",
    "        scale='50m', facecolor='none')\n",
    "    ax.add_feature(state_borders, edgecolor='black', linewidth=1, zorder=3)\n",
    "    \n",
    "    return ax"
   ]
  },
  {
   "cell_type": "markdown",
   "metadata": {},
   "source": [
    "Use the function to make a new map and plot a colormapped view of the data"
   ]
  },
  {
   "cell_type": "code",
   "execution_count": 15,
   "metadata": {
    "collapsed": false
   },
   "outputs": [
    {
     "data": {
      "text/plain": [
       "<matplotlib.collections.QuadMesh at 0x1113b34d0>"
      ]
     },
     "execution_count": 15,
     "metadata": {},
     "output_type": "execute_result"
    },
    {
     "name": "stderr",
     "output_type": "stream",
     "text": [
      "/Users/marvinbertin/anaconda/lib/python2.7/site-packages/cartopy/io/__init__.py:264: DownloadWarning: Downloading: http://naciscdn.org/naturalearth/50m/physical/ne_50m_coastline.zip\n",
      "  warnings.warn('Downloading: {}'.format(url), DownloadWarning)\n",
      "/Users/marvinbertin/anaconda/lib/python2.7/site-packages/cartopy/io/__init__.py:264: DownloadWarning: Downloading: http://naciscdn.org/naturalearth/50m/cultural/ne_50m_admin_1_states_provinces_lines.zip\n",
      "  warnings.warn('Downloading: {}'.format(url), DownloadWarning)\n"
     ]
    },
    {
     "data": {
      "image/png": "[encoded data removed]",
      "text/plain": [
       "<matplotlib.figure.Figure at 0x10f1fdc50>"
      ]
     },
     "metadata": {},
     "output_type": "display_data"
    }
   ],
   "source": [
    "fig = plt.figure(figsize=(10, 10))\n",
    "ax = new_map(fig, data.StationLongitude, data.StationLatitude)\n",
    "ax.pcolormesh(x, y, ref, cmap=ref_cmap, norm=ref_norm, zorder=0)"
   ]
  },
  {
   "cell_type": "markdown",
   "metadata": {},
   "source": [
    "## Download a collection of historical data"
   ]
  },
  {
   "cell_type": "markdown",
   "metadata": {},
   "source": [
    "This time we'll make a query based on a longitude, latitude point and using a time range."
   ]
  },
  {
   "cell_type": "code",
   "execution_count": 101,
   "metadata": {
    "collapsed": false
   },
   "outputs": [
    {
     "data": {
      "text/plain": [
       "time_start=2016-02-27T12%3A00%3A00&time_end=2016-02-27T14%3A00%3A00&latitude=37.155&longitude=-121.898"
      ]
     },
     "execution_count": 101,
     "metadata": {},
     "output_type": "execute_result"
    }
   ],
   "source": [
    "query = rs.query()\n",
    "dt = datetime(2016, 2, 27, 12) # Our specified time\n",
    "# San Francisco -121.898, 37.155\n",
    "query.lonlat_point(-121.898, 37.155).time_range(dt, dt + timedelta(hours=2))"
   ]
  },
  {
   "cell_type": "markdown",
   "metadata": {},
   "source": [
    "The specified longitude, latitude are in NY and the TDS helpfully finds the closest station to that point. The time range we request is an hour of data form 29 October 2012; we're looking for data from Hurricane Sandy. We can see that this time we obtained multiple datasets."
   ]
  },
  {
   "cell_type": "code",
   "execution_count": 102,
   "metadata": {
    "collapsed": false
   },
   "outputs": [
    {
     "data": {
      "text/plain": [
       "{'Level2_KMUX_20160227_1201.ar2v': <siphon.catalog.Dataset at 0x120473210>,\n",
       " 'Level2_KMUX_20160227_1205.ar2v': <siphon.catalog.Dataset at 0x120473310>,\n",
       " 'Level2_KMUX_20160227_1208.ar2v': <siphon.catalog.Dataset at 0x120473790>,\n",
       " 'Level2_KMUX_20160227_1212.ar2v': <siphon.catalog.Dataset at 0x12036c650>,\n",
       " 'Level2_KMUX_20160227_1216.ar2v': <siphon.catalog.Dataset at 0x12036c750>,\n",
       " 'Level2_KMUX_20160227_1219.ar2v': <siphon.catalog.Dataset at 0x1204731d0>,\n",
       " 'Level2_KMUX_20160227_1223.ar2v': <siphon.catalog.Dataset at 0x12036c690>,\n",
       " 'Level2_KMUX_20160227_1227.ar2v': <siphon.catalog.Dataset at 0x12036c790>,\n",
       " 'Level2_KMUX_20160227_1231.ar2v': <siphon.catalog.Dataset at 0x120473050>,\n",
       " 'Level2_KMUX_20160227_1234.ar2v': <siphon.catalog.Dataset at 0x1204732d0>,\n",
       " 'Level2_KMUX_20160227_1238.ar2v': <siphon.catalog.Dataset at 0x120473390>,\n",
       " 'Level2_KMUX_20160227_1242.ar2v': <siphon.catalog.Dataset at 0x120473290>,\n",
       " 'Level2_KMUX_20160227_1246.ar2v': <siphon.catalog.Dataset at 0x1204733d0>,\n",
       " 'Level2_KMUX_20160227_1249.ar2v': <siphon.catalog.Dataset at 0x12036c810>,\n",
       " 'Level2_KMUX_20160227_1253.ar2v': <siphon.catalog.Dataset at 0x120473150>,\n",
       " 'Level2_KMUX_20160227_1257.ar2v': <siphon.catalog.Dataset at 0x120473110>,\n",
       " 'Level2_KMUX_20160227_1300.ar2v': <siphon.catalog.Dataset at 0x120473750>,\n",
       " 'Level2_KMUX_20160227_1304.ar2v': <siphon.catalog.Dataset at 0x12036c7d0>,\n",
       " 'Level2_KMUX_20160227_1308.ar2v': <siphon.catalog.Dataset at 0x12036c710>,\n",
       " 'Level2_KMUX_20160227_1312.ar2v': <siphon.catalog.Dataset at 0x120473090>,\n",
       " 'Level2_KMUX_20160227_1315.ar2v': <siphon.catalog.Dataset at 0x12036c610>,\n",
       " 'Level2_KMUX_20160227_1319.ar2v': <siphon.catalog.Dataset at 0x12036cf50>,\n",
       " 'Level2_KMUX_20160227_1323.ar2v': <siphon.catalog.Dataset at 0x1204730d0>,\n",
       " 'Level2_KMUX_20160227_1327.ar2v': <siphon.catalog.Dataset at 0x120473650>,\n",
       " 'Level2_KMUX_20160227_1330.ar2v': <siphon.catalog.Dataset at 0x12036cfd0>,\n",
       " 'Level2_KMUX_20160227_1334.ar2v': <siphon.catalog.Dataset at 0x12036cf90>,\n",
       " 'Level2_KMUX_20160227_1338.ar2v': <siphon.catalog.Dataset at 0x12036c6d0>,\n",
       " 'Level2_KMUX_20160227_1341.ar2v': <siphon.catalog.Dataset at 0x1204736d0>,\n",
       " 'Level2_KMUX_20160227_1345.ar2v': <siphon.catalog.Dataset at 0x120473710>,\n",
       " 'Level2_KMUX_20160227_1349.ar2v': <siphon.catalog.Dataset at 0x120473190>,\n",
       " 'Level2_KMUX_20160227_1353.ar2v': <siphon.catalog.Dataset at 0x120473690>,\n",
       " 'Level2_KMUX_20160227_1356.ar2v': <siphon.catalog.Dataset at 0x12036cf10>,\n",
       " 'Level2_KMUX_20160227_1400.ar2v': <siphon.catalog.Dataset at 0x120473250>}"
      ]
     },
     "execution_count": 102,
     "metadata": {},
     "output_type": "execute_result"
    }
   ],
   "source": [
    "cat = rs.get_catalog(query)\n",
    "cat.datasets"
   ]
  },
  {
   "cell_type": "markdown",
   "metadata": {},
   "source": [
    "Grab the first dataset so that we can get the longitude and latitude of the station and make a map for plotting. We'll go ahead and specify some longitude and latitude bounds for the map."
   ]
  },
  {
   "cell_type": "code",
   "execution_count": 120,
   "metadata": {
    "collapsed": false
   },
   "outputs": [
    {
     "data": {
      "text/plain": [
       "<cartopy.mpl.feature_artist.FeatureArtist at 0x114c9f2d0>"
      ]
     },
     "execution_count": 120,
     "metadata": {},
     "output_type": "execute_result"
    },
    {
     "data": {
      "image/png": "[encoded data removed]",
      "text/plain": [
       "<matplotlib.figure.Figure at 0x11c6e9b90>"
      ]
     },
     "metadata": {},
     "output_type": "display_data"
    }
   ],
   "source": [
    "ds = list(cat.datasets.values())[0]\n",
    "data = Dataset(ds.access_urls['CdmRemote'])\n",
    "fig = plt.figure(figsize=(10, 10))\n",
    "ax = new_map(fig, data.StationLongitude, data.StationLatitude)\n",
    "\n",
    "# Set limits in lat/lon space -121.898, 37.155\n",
    "ax.set_extent([-124, -120, 35, 40])\n",
    "\n",
    "# Add ocean and land background\n",
    "ocean = cartopy.feature.NaturalEarthFeature('physical', 'ocean', scale='50m',\n",
    "                                            edgecolor='face',\n",
    "                                            facecolor=cartopy.feature.COLORS['water'])\n",
    "land = cartopy.feature.NaturalEarthFeature('physical', 'land', scale='50m',\n",
    "                                           edgecolor='face',\n",
    "                                           facecolor=cartopy.feature.COLORS['land'])\n",
    "\n",
    "ax.add_feature(ocean, zorder=-1)\n",
    "ax.add_feature(land, zorder=-1)"
   ]
  },
  {
   "cell_type": "markdown",
   "metadata": {},
   "source": [
    "Now we can loop over the collection of returned datasets and plot them. As we plot, we collect the returned plot objects so that we can use them to make an animated plot. We also add a timestamp for each plot."
   ]
  },
  {
   "cell_type": "code",
   "execution_count": null,
   "metadata": {
    "collapsed": false
   },
   "outputs": [],
   "source": [
    "meshes = []\n",
    "for item in sorted(cat.datasets.items()):\n",
    "    # After looping over the list of sorted datasets, pull the actual Dataset object out\n",
    "    # of our list of items and access over CDMRemote\n",
    "    ds = item[1]\n",
    "    data = Dataset(ds.access_urls['CdmRemote'])\n",
    "\n",
    "    # Pull out the data of interest\n",
    "    sweep = 0\n",
    "    rng = data.variables['distanceR_HI'][:]\n",
    "    az = data.variables['azimuthR_HI'][sweep]\n",
    "    ref_var = data.variables['Reflectivity_HI']\n",
    "\n",
    "    # Convert data to float and coordinates to Cartesian\n",
    "    ref = raw_to_masked_float(ref_var, ref_var[sweep])\n",
    "    x, y = polar_to_cartesian(az, rng)\n",
    "\n",
    "    # Plot the data and the timestamp\n",
    "    mesh = ax.pcolormesh(x, y, ref, cmap=ref_cmap, norm=ref_norm, zorder=0)\n",
    "    text = ax.text(0.65, 0.03, data.time_coverage_start, transform=ax.transAxes,\n",
    "                   fontdict={'size':16})\n",
    "    \n",
    "    # Collect the things we've plotted so we can animate\n",
    "    meshes.append((mesh, text))"
   ]
  },
  {
   "cell_type": "markdown",
   "metadata": {},
   "source": [
    "Using matplotlib, we can take a collection of ``Artists`` that have been plotted and turn them into an animation. With matplotlib 1.5 (1.5-rc2 is available now!), this animation can be converted to HTML5 video viewable in the notebook."
   ]
  },
  {
   "cell_type": "code",
   "execution_count": null,
   "metadata": {
    "collapsed": false
   },
   "outputs": [],
   "source": [
    "# Set up matplotlib to do the conversion to HTML5 video\n",
    "import matplotlib\n",
    "matplotlib.rcParams['animation.html'] = 'html5'\n",
    "\n",
    "# Create an animation\n",
    "from matplotlib.animation import ArtistAnimation\n",
    "ArtistAnimation(fig, meshes)"
   ]
  },
  {
   "cell_type": "code",
   "execution_count": null,
   "metadata": {
    "collapsed": true
   },
   "outputs": [],
   "source": []
  }
 ],
 "metadata": {
  "kernelspec": {
   "display_name": "Python 2",
   "language": "python",
   "name": "python2"
  },
  "language_info": {
   "codemirror_mode": {
    "name": "ipython",
    "version": 2
   },
   "file_extension": ".py",
   "mimetype": "text/x-python",
   "name": "python",
   "nbconvert_exporter": "python",
   "pygments_lexer": "ipython2",
   "version": "2.7.11"
  }
 },
 "nbformat": 4,
 "nbformat_minor": 0
}
